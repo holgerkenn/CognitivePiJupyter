{
 "cells": [
  {
   "cell_type": "markdown",
   "metadata": {},
   "source": [
    "# Take a picture and run the cloud model on it\n",
    "\n",
    "## Prerequisites and cloud credential setup"
   ]
  },
  {
   "cell_type": "code",
   "execution_count": 1,
   "metadata": {},
   "outputs": [],
   "source": [
    "import os\n",
    "import glob\n",
    "\n",
    "from azure.cognitiveservices.vision.customvision.training import CustomVisionTrainingClient\n",
    "from azure.cognitiveservices.vision.customvision.training.models import ImageUrlCreateEntry\n",
    "\n",
    "from picamera import PiCamera\n",
    "from time import sleep\n",
    "\n",
    "ENDPOINT = \"https://southcentralus.api.cognitive.microsoft.com\"\n",
    "\n",
    "# Replace with a valid key\n",
    "training_key = \"<enter training key here>\"\n",
    "prediction_key = \"<enter prediction key here>\"\n",
    "prediction_resource_id = \"<enter prediction resource id here>\"\n",
    "\n",
    "from azure.cognitiveservices.vision.customvision.prediction import CustomVisionPredictionClient\n",
    "\n",
    "\n",
    "projectid = \"<enter project id here>\"\n",
    "# Now there is a trained endpoint that can be used to make a prediction\n",
    "predictor = CustomVisionPredictionClient(prediction_key, endpoint=ENDPOINT)\n",
    "trainer = CustomVisionTrainingClient(training_key,endpoint=ENDPOINT)\n"
   ]
  },
  {
   "cell_type": "markdown",
   "metadata": {},
   "source": [
    "## Find a published iteration"
   ]
  },
  {
   "cell_type": "code",
   "execution_count": 2,
   "metadata": {},
   "outputs": [],
   "source": [
    "iterations = trainer.get_iterations(projectid);\n",
    "for iteration in iterations:\n",
    "    print(iteration.name + \"\\t\" + iteration.id + \"\\t\" + iteration.status, end=' ' )\n",
    "    if (iteration.publish_name):\n",
    "        print(\"published under \"+ iteration.publish_name, end=' ')\n",
    "        publish_iteration_name = iteration.publish_name\n",
    "    print(\" \")\n",
    "    \n",
    "print(\"using \"+ publish_iteration_name)\n"
   ]
  }
 ],
 "metadata": {
  "kernelspec": {
   "display_name": "Python 3",
   "language": "python",
   "name": "python3"
  },
  "language_info": {
   "codemirror_mode": {
    "name": "ipython",
    "version": 3
   },
   "file_extension": ".py",
   "mimetype": "text/x-python",
   "name": "python",
   "nbconvert_exporter": "python",
   "pygments_lexer": "ipython3",
   "version": "3.5.3"
  }
 },
 "nbformat": 4,
 "nbformat_minor": 2
}
